{
 "cells": [
  {
   "cell_type": "markdown",
   "id": "a4ce544a",
   "metadata": {},
   "source": [
    "Harry Potter’s Invisible Cloak using OpenCV – Python Project"
   ]
  },
  {
   "cell_type": "code",
   "execution_count": 8,
   "id": "4b0473d2",
   "metadata": {},
   "outputs": [],
   "source": [
    "# DataFlair Invisible Cloak project using OpenCV.\n",
    "import cv2\n",
    "import time\n",
    "import numpy as np\n",
    "cap = cv2.VideoCapture(0)"
   ]
  },
  {
   "cell_type": "code",
   "execution_count": 9,
   "id": "7f12555a",
   "metadata": {},
   "outputs": [
    {
     "ename": "AttributeError",
     "evalue": "'cv2.VideoCapture' object has no attribute 'isOpen'",
     "output_type": "error",
     "traceback": [
      "\u001b[31m---------------------------------------------------------------------------\u001b[39m",
      "\u001b[31mAttributeError\u001b[39m                            Traceback (most recent call last)",
      "\u001b[36mCell\u001b[39m\u001b[36m \u001b[39m\u001b[32mIn[9]\u001b[39m\u001b[32m, line 4\u001b[39m\n\u001b[32m      2\u001b[39m time.sleep(\u001b[32m2\u001b[39m)\n\u001b[32m      3\u001b[39m _, background = cap.read()\n\u001b[32m----> \u001b[39m\u001b[32m4\u001b[39m \u001b[38;5;28;01mwhile\u001b[39;00m \u001b[43mcap\u001b[49m\u001b[43m.\u001b[49m\u001b[43misOpen\u001b[49m():\n\u001b[32m      5\u001b[39m     _, frame - cap.read()\n",
      "\u001b[31mAttributeError\u001b[39m: 'cv2.VideoCapture' object has no attribute 'isOpen'"
     ]
    }
   ],
   "source": [
    "_, background = cap.read()\n",
    "time.sleep(2)\n",
    "_, background = cap.read()\n",
    "while cap.isOpen():\n",
    "    _, frame - cap.read()"
   ]
  },
  {
   "cell_type": "code",
   "execution_count": 3,
   "id": "68114b2b",
   "metadata": {},
   "outputs": [
    {
     "ename": "NameError",
     "evalue": "name 'frame' is not defined",
     "output_type": "error",
     "traceback": [
      "\u001b[31m---------------------------------------------------------------------------\u001b[39m",
      "\u001b[31mNameError\u001b[39m                                 Traceback (most recent call last)",
      "\u001b[36mCell\u001b[39m\u001b[36m \u001b[39m\u001b[32mIn[3]\u001b[39m\u001b[32m, line 1\u001b[39m\n\u001b[32m----> \u001b[39m\u001b[32m1\u001b[39m hsv = cv2.cvtColor(\u001b[43mframe\u001b[49m, cv2.COLOR_BGR2HSV)\n\u001b[32m      2\u001b[39m lower_bound = np.array([\u001b[32m50\u001b[39m, \u001b[32m80\u001b[39m, \u001b[32m50\u001b[39m])     \n\u001b[32m      3\u001b[39m upper_bound = np.array([\u001b[32m90\u001b[39m, \u001b[32m255\u001b[39m, \u001b[32m255\u001b[39m])\n",
      "\u001b[31mNameError\u001b[39m: name 'frame' is not defined"
     ]
    }
   ],
   "source": [
    "hsv = cv2.cvtColor(frame, cv2.COLOR_BGR2HSV)\n",
    "lower_bound = np.array([50, 80, 50])     \n",
    "upper_bound = np.array([90, 255, 255])\n",
    "mask = cv2.inRange(hsv, lower_bound, upper_bound)"
   ]
  },
  {
   "cell_type": "code",
   "execution_count": 4,
   "id": "079e8b9f",
   "metadata": {},
   "outputs": [
    {
     "ename": "NameError",
     "evalue": "name 'mask' is not defined",
     "output_type": "error",
     "traceback": [
      "\u001b[31m---------------------------------------------------------------------------\u001b[39m",
      "\u001b[31mNameError\u001b[39m                                 Traceback (most recent call last)",
      "\u001b[36mCell\u001b[39m\u001b[36m \u001b[39m\u001b[32mIn[4]\u001b[39m\u001b[32m, line 3\u001b[39m\n\u001b[32m      1\u001b[39m \u001b[38;5;66;03m# Apply the mask to take only those region from the saved background \u001b[39;00m\n\u001b[32m      2\u001b[39m \u001b[38;5;66;03m# where our cloak is present in the current frame\u001b[39;00m\n\u001b[32m----> \u001b[39m\u001b[32m3\u001b[39m cloak = cv2.bitwise_and(background, background, mask=\u001b[43mmask\u001b[49m)\n",
      "\u001b[31mNameError\u001b[39m: name 'mask' is not defined"
     ]
    }
   ],
   "source": [
    "# Apply the mask to take only those region from the saved background \n",
    "# where our cloak is present in the current frame\n",
    "cloak = cv2.bitwise_and(background, background, mask=mask)"
   ]
  },
  {
   "cell_type": "code",
   "execution_count": null,
   "id": "56cfaad3",
   "metadata": {},
   "outputs": [],
   "source": [
    "# create inverse mask \n",
    "inverse_mask = cv2.bitwise_not(mask)  \n",
    "# Apply the inverse mask to take those region of the current frame where cloak is # not present \n",
    "current_background = cv2.bitwise_and(frame, frame, mask=inverse_mask)"
   ]
  },
  {
   "cell_type": "code",
   "execution_count": 5,
   "id": "9e2d81c6",
   "metadata": {},
   "outputs": [
    {
     "ename": "NameError",
     "evalue": "name 'cloak' is not defined",
     "output_type": "error",
     "traceback": [
      "\u001b[31m---------------------------------------------------------------------------\u001b[39m",
      "\u001b[31mNameError\u001b[39m                                 Traceback (most recent call last)",
      "\u001b[36mCell\u001b[39m\u001b[36m \u001b[39m\u001b[32mIn[5]\u001b[39m\u001b[32m, line 1\u001b[39m\n\u001b[32m----> \u001b[39m\u001b[32m1\u001b[39m combined = cv2.add(\u001b[43mcloak\u001b[49m, current_background)\n",
      "\u001b[31mNameError\u001b[39m: name 'cloak' is not defined"
     ]
    }
   ],
   "source": [
    "combined = cv2.add(cloak, current_background)"
   ]
  },
  {
   "cell_type": "code",
   "execution_count": 6,
   "id": "597e4587",
   "metadata": {},
   "outputs": [],
   "source": [
    "open_kernel = np.ones((5,5),np.uint8)\n",
    "close_kernel = np.ones((7,7),np.uint8)\n",
    "dilation_kernel = np.ones((10, 10), np.uint8)"
   ]
  },
  {
   "cell_type": "code",
   "execution_count": 7,
   "id": "08f46a6c",
   "metadata": {},
   "outputs": [],
   "source": [
    "def filter_mask(mask):\n",
    "    close_mask = cv2.morphologyEx(mask, cv2.MORPH_CLOSE, close_kernel)\n",
    "    open_mask = cv2.morphologyEx(close_mask, cv2.MORPH_OPEN, open_kernel)\n",
    "    dilation = cv2.dilate(open_mask, dialation_kernel, iterations= 1)\n",
    "    return dilation"
   ]
  }
 ],
 "metadata": {
  "kernelspec": {
   "display_name": "KNCVU",
   "language": "python",
   "name": "python3"
  },
  "language_info": {
   "codemirror_mode": {
    "name": "ipython",
    "version": 3
   },
   "file_extension": ".py",
   "mimetype": "text/x-python",
   "name": "python",
   "nbconvert_exporter": "python",
   "pygments_lexer": "ipython3",
   "version": "3.11.13"
  }
 },
 "nbformat": 4,
 "nbformat_minor": 5
}
